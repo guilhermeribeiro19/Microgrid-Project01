{
 "cells": [
  {
   "cell_type": "code",
   "execution_count": 13,
   "id": "3cc5e0b8",
   "metadata": {},
   "outputs": [
    {
     "name": "stdout",
     "output_type": "stream",
     "text": [
      "\n",
      "--- Head (first 5 rows) ---\n"
     ]
    },
    {
     "data": {
      "text/html": [
       "<div>\n",
       "<style scoped>\n",
       "    .dataframe tbody tr th:only-of-type {\n",
       "        vertical-align: middle;\n",
       "    }\n",
       "\n",
       "    .dataframe tbody tr th {\n",
       "        vertical-align: top;\n",
       "    }\n",
       "\n",
       "    .dataframe thead th {\n",
       "        text-align: right;\n",
       "    }\n",
       "</style>\n",
       "<table border=\"1\" class=\"dataframe\">\n",
       "  <thead>\n",
       "    <tr style=\"text-align: right;\">\n",
       "      <th></th>\n",
       "      <th>index</th>\n",
       "      <th>Consumption</th>\n",
       "      <th>Solar</th>\n",
       "      <th>Wind</th>\n",
       "    </tr>\n",
       "  </thead>\n",
       "  <tbody>\n",
       "    <tr>\n",
       "      <th>0</th>\n",
       "      <td>2020-01-01T13:00:00.0</td>\n",
       "      <td>26.514689</td>\n",
       "      <td>0.0</td>\n",
       "      <td>40.59</td>\n",
       "    </tr>\n",
       "    <tr>\n",
       "      <th>1</th>\n",
       "      <td>2020-01-01T14:00:00.0</td>\n",
       "      <td>28.326960</td>\n",
       "      <td>0.0</td>\n",
       "      <td>67.86</td>\n",
       "    </tr>\n",
       "    <tr>\n",
       "      <th>2</th>\n",
       "      <td>2020-01-01T15:00:00.0</td>\n",
       "      <td>23.682207</td>\n",
       "      <td>0.0</td>\n",
       "      <td>116.68</td>\n",
       "    </tr>\n",
       "    <tr>\n",
       "      <th>3</th>\n",
       "      <td>2020-01-01T16:00:00.0</td>\n",
       "      <td>25.354782</td>\n",
       "      <td>0.0</td>\n",
       "      <td>120.22</td>\n",
       "    </tr>\n",
       "    <tr>\n",
       "      <th>4</th>\n",
       "      <td>2020-01-01T17:00:00.0</td>\n",
       "      <td>23.861942</td>\n",
       "      <td>0.0</td>\n",
       "      <td>109.86</td>\n",
       "    </tr>\n",
       "  </tbody>\n",
       "</table>\n",
       "</div>"
      ],
      "text/plain": [
       "                   index  Consumption  Solar    Wind\n",
       "0  2020-01-01T13:00:00.0    26.514689    0.0   40.59\n",
       "1  2020-01-01T14:00:00.0    28.326960    0.0   67.86\n",
       "2  2020-01-01T15:00:00.0    23.682207    0.0  116.68\n",
       "3  2020-01-01T16:00:00.0    25.354782    0.0  120.22\n",
       "4  2020-01-01T17:00:00.0    23.861942    0.0  109.86"
      ]
     },
     "metadata": {},
     "output_type": "display_data"
    },
    {
     "name": "stdout",
     "output_type": "stream",
     "text": [
      "\n",
      "--- Columns ---\n",
      "['index', 'Consumption', 'Solar', 'Wind']\n"
     ]
    }
   ],
   "source": [
    "# Quick dataset check\n",
    "import pandas as pd\n",
    "from pathlib import Path\n",
    "\n",
    "# Get absolute path to the CSV (handles running from any directory)\n",
    "repo_root = Path.cwd().resolve()\n",
    "while not (repo_root / '.git').exists() and repo_root != repo_root.parent:\n",
    "    repo_root = repo_root.parent\n",
    "    \n",
    "data_path = repo_root / 'data' / 'raw' / 'microgrid.csv'\n",
    "\n",
    "if not data_path.exists():\n",
    "    raise FileNotFoundError(\n",
    "        f\"\\nDataset not found at: {data_path}\\n\"\n",
    "        \"\\nTo fix this:\\n\"\n",
    "        \"1. Download the Kaggle 'Microgrid load and generation' dataset\\n\"\n",
    "        \"2. Place it in the data/raw/ directory as microgrid.csv\\n\"\n",
    "        f\"3. Verify the path exists: {data_path}\\n\"\n",
    "    )\n",
    "\n",
    "# Load and inspect the data\n",
    "df = pd.read_csv(data_path)\n",
    "print('\\n--- Head (first 5 rows) ---')\n",
    "display(df.head())\n",
    "print('\\n--- Columns ---')\n",
    "print(list(df.columns))\n"
   ]
  }
 ],
 "metadata": {
  "kernelspec": {
   "display_name": "Python 3",
   "language": "python",
   "name": "python3"
  },
  "language_info": {
   "codemirror_mode": {
    "name": "ipython",
    "version": 3
   },
   "file_extension": ".py",
   "mimetype": "text/x-python",
   "name": "python",
   "nbconvert_exporter": "python",
   "pygments_lexer": "ipython3",
   "version": "3.12.1"
  }
 },
 "nbformat": 4,
 "nbformat_minor": 5
}
