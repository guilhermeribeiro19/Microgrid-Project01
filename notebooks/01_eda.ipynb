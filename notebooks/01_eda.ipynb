{
 "cells": [
  {
   "cell_type": "markdown",
   "id": "8e00c475",
   "metadata": {},
   "source": [
    "## Step 2: Load sample dataset\n",
    "\n",
    "Download or place the Kaggle \"Microgrid load and generation\" CSV into:\n",
    "\n",
    "`data/raw/microgrid.csv`\n",
    "\n",
    "Then run the code cell below to load the dataset and inspect column names and types. We'll use the column names to adapt `src/*/io.py` loader functions."
   ]
  },
  {
   "cell_type": "code",
   "execution_count": null,
   "id": "3cc5e0b8",
   "metadata": {},
   "outputs": [],
   "source": [
    "# Quick dataset check\n",
    "import pandas as pd\n",
    "from pathlib import Path\n",
    "\n",
    "data_path = Path(\"data/raw/microgrid.csv\")\n",
    "if not data_path.exists():\n",
    "    raise FileNotFoundError(f\"Expected dataset at {data_path}. Place the CSV file there or update the path.\")\n",
    "\n",
    "df = pd.read_csv(data_path)\n",
    "print('\\n--- Head (first 5 rows) ---')\n",
    "display(df.head())\n",
    "print('\\n--- Columns ---')\n",
    "print(list(df.columns))\n",
    "print('\\n--- Dataframe info ---')\n",
    "df.info()\n",
    "print('\\n--- Missing values per column ---')\n",
    "print(df.isna().sum())"
   ]
  }
 ],
 "metadata": {
  "language_info": {
   "name": "python"
  }
 },
 "nbformat": 4,
 "nbformat_minor": 5
}
