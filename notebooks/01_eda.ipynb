{
 "cells": [
  {
   "cell_type": "markdown",
   "id": "8e00c475",
   "metadata": {},
   "source": [
    "## Step 2: Load sample dataset\n",
    "\n",
    "Download or place the Kaggle \"Microgrid load and generation\" CSV into:\n",
    "\n",
    "`data/raw/microgrid.csv`\n",
    "\n",
    "Then run the code cell below to load the dataset and inspect column names and types. We'll use the column names to adapt `src/*/io.py` loader functions."
   ]
  },
  {
   "cell_type": "code",
   "execution_count": 1,
   "id": "3cc5e0b8",
   "metadata": {},
   "outputs": [
    {
     "ename": "FileNotFoundError",
     "evalue": "Expected dataset at data/raw/microgrid.csv. Place the CSV file there or update the path.",
     "output_type": "error",
     "traceback": [
      "\u001b[31m---------------------------------------------------------------------------\u001b[39m",
      "\u001b[31mFileNotFoundError\u001b[39m                         Traceback (most recent call last)",
      "\u001b[36mCell\u001b[39m\u001b[36m \u001b[39m\u001b[32mIn[1]\u001b[39m\u001b[32m, line 7\u001b[39m\n\u001b[32m      5\u001b[39m data_path = Path(\u001b[33m\"\u001b[39m\u001b[33mdata/raw/microgrid.csv\u001b[39m\u001b[33m\"\u001b[39m)\n\u001b[32m      6\u001b[39m \u001b[38;5;28;01mif\u001b[39;00m \u001b[38;5;129;01mnot\u001b[39;00m data_path.exists():\n\u001b[32m----> \u001b[39m\u001b[32m7\u001b[39m     \u001b[38;5;28;01mraise\u001b[39;00m \u001b[38;5;167;01mFileNotFoundError\u001b[39;00m(\u001b[33mf\u001b[39m\u001b[33m\"\u001b[39m\u001b[33mExpected dataset at \u001b[39m\u001b[38;5;132;01m{\u001b[39;00mdata_path\u001b[38;5;132;01m}\u001b[39;00m\u001b[33m. Place the CSV file there or update the path.\u001b[39m\u001b[33m\"\u001b[39m)\n\u001b[32m      9\u001b[39m df = pd.read_csv(data_path)\n\u001b[32m     10\u001b[39m \u001b[38;5;28mprint\u001b[39m(\u001b[33m'\u001b[39m\u001b[38;5;130;01m\\n\u001b[39;00m\u001b[33m--- Head (first 5 rows) ---\u001b[39m\u001b[33m'\u001b[39m)\n",
      "\u001b[31mFileNotFoundError\u001b[39m: Expected dataset at data/raw/microgrid.csv. Place the CSV file there or update the path."
     ]
    }
   ],
   "source": [
    "# Quick dataset check\n",
    "import pandas as pd\n",
    "from pathlib import Path\n",
    "\n",
    "data_path = Path(\"data/raw/microgrid.csv\")\n",
    "if not data_path.exists():\n",
    "    raise FileNotFoundError(f\"Expected dataset at {data_path}. Place the CSV file there or update the path.\")\n",
    "\n",
    "df = pd.read_csv(data_path)\n",
    "print('\\n--- Head (first 5 rows) ---')\n",
    "display(df.head())\n",
    "print('\\n--- Columns ---')\n",
    "print(list(df.columns))\n",
    "print('\\n--- Dataframe info ---')\n",
    "df.info()\n",
    "print('\\n--- Missing values per column ---')\n",
    "print(df.isna().sum())"
   ]
  }
 ],
 "metadata": {
  "kernelspec": {
   "display_name": "Python 3",
   "language": "python",
   "name": "python3"
  },
  "language_info": {
   "codemirror_mode": {
    "name": "ipython",
    "version": 3
   },
   "file_extension": ".py",
   "mimetype": "text/x-python",
   "name": "python",
   "nbconvert_exporter": "python",
   "pygments_lexer": "ipython3",
   "version": "3.12.1"
  }
 },
 "nbformat": 4,
 "nbformat_minor": 5
}
